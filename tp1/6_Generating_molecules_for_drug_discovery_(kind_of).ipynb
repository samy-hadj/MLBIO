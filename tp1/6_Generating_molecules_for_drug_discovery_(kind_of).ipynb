{
  "cells": [
    {
      "cell_type": "markdown",
      "metadata": {
        "id": "_L1A3SyLhhBZ"
      },
      "source": [
        "# RNN Based molucule generation\n",
        "\n",
        "Laurent Cetinsoy\n",
        "\n",
        "In this hands-on we want to generate molecule formulas for denovo-drug discovery.\n",
        "\n",
        "For that we need to use Generative models. Generative models are models which goes beyond classification or simple regression : they are able to generate data that look like previously seens dataset.\n",
        "\n",
        "There exists a lot of models :\n",
        "\n",
        "- Bayesian models like graphical models\n",
        "- Recurrent models (for sequence generation like texte)\n",
        "- Variational auto encoders\n",
        "- Generative adversarial models\n",
        "- Flow and diffusion models\n",
        "\n",
        "\n",
        "In the hands-on we will start by  trainning a character based RNN to generate smile molecules\n",
        "\n",
        "\n",
        "We want to feed smile representations of molecules to an RNN.\n",
        "The basic idea is we will train it to predict the next smile token of a molecule given the previous one.\n",
        "\n",
        "For instance for the following molecule \"CC(=O)NC1=CC=C(O)C=C1\" will may give to the model\n",
        "\n",
        "X = \"CC(=O)N\"\n",
        "y = C\n",
        "\n",
        "and ask the RNN to learn to predict y given X\n",
        "\n",
        "Like a standard language model !\n"
      ]
    },
    {
      "cell_type": "markdown",
      "metadata": {
        "id": "kwekbYE4hhBb"
      },
      "source": [
        "## RNN Language model\n",
        "\n",
        "\n",
        "A language model is a model which predict the next token of a sequence given the previous ones :\n",
        "\n",
        "$ P(X_t | X_{t-1}, X_{t-2}, ..., X_{t-p})  $\n",
        "\n",
        "\n",
        "This model can be learned with a Recurrent neural network\n",
        "\n",
        "$ y = P(X_t | X_{t-1}, X_{t-2}, ..., X_{t-p}) = RNN_{\\theta} (X_{t-1}, X_{t-2}, ..., X_{t-p})  $\n",
        "\n",
        "\n",
        "In order to train such model you need a corpus of data.\n",
        "\n",
        "\n",
        "\n",
        "There are two main ways to do that : Word level model or character level model\n",
        "\n",
        "For character level models, an interesting resource is : http://karpathy.github.io/2015/05/21/rnn-effectiveness/\n",
        "\n"
      ]
    },
    {
      "cell_type": "markdown",
      "metadata": {
        "id": "kZuDdGd7hhBb"
      },
      "source": [
        "Explain briefly what is the difference between word based language model and character based language model"
      ]
    },
    {
      "cell_type": "markdown",
      "metadata": {
        "id": "SExaJk3qhhBc"
      },
      "source": []
    },
    {
      "cell_type": "markdown",
      "metadata": {
        "id": "-p2nvFTZhhBc"
      },
      "source": [
        "## Loading the data"
      ]
    },
    {
      "cell_type": "markdown",
      "metadata": {
        "id": "ip5znEJKhhBc"
      },
      "source": [
        "Dowload the following dataset : https://github.com/joeymach/Leveraging-VAE-to-generate-molecules"
      ]
    },
    {
      "cell_type": "code",
      "execution_count": null,
      "metadata": {
        "id": "evdi7GeYhhBd"
      },
      "outputs": [],
      "source": [
        "import pandas as pd\n",
        "import numpy as np\n",
        "from keras.models import Sequential\n",
        "from keras.layers import LSTM, Dense, Dropout\n",
        "from keras.callbacks import ModelCheckpoint\n",
        "import os"
      ]
    },
    {
      "cell_type": "markdown",
      "metadata": {
        "id": "f6PlLx0FhhBd"
      },
      "source": [
        "Import pandas and load the first 1000 lines"
      ]
    },
    {
      "cell_type": "code",
      "execution_count": null,
      "metadata": {
        "id": "Re4a-_sAhhBd"
      },
      "outputs": [],
      "source": [
        "data_path = '/content/250k_smiles.csv'  # Remplacer par le chemin de votre dataset\n",
        "df = pd.read_csv(data_path).head(1000)  # Charger les 1000 premières lignes"
      ]
    },
    {
      "cell_type": "markdown",
      "metadata": {
        "id": "UoZ1BzWZhhBe"
      },
      "source": [
        "Display the first rows of the dataframe"
      ]
    },
    {
      "cell_type": "code",
      "execution_count": null,
      "metadata": {
        "colab": {
          "base_uri": "https://localhost:8080/"
        },
        "id": "YoDu_4xNhhBe",
        "outputId": "28935b3a-40f6-471c-e35e-3afadf4f67e3"
      },
      "outputs": [
        {
          "output_type": "stream",
          "name": "stdout",
          "text": [
            "                                              smiles     logP       qed  \\\n",
            "0          CC(C)(C)c1ccc2occ(CC(=O)Nc3ccccc3F)c2c1\\n  5.05060  0.702012   \n",
            "1     C[C@@H]1CC(Nc2cncc(-c3nncn3C)c2)C[C@@H](C)C1\\n  3.11370  0.928975   \n",
            "2  N#Cc1ccc(-c2ccc(O[C@@H](C(=O)N3CCCC3)c3ccccc3)...  4.96778  0.599682   \n",
            "3  CCOC(=O)[C@@H]1CCCN(C(=O)c2nc(-c3ccc(C)cc3)n3c...  4.00022  0.690944   \n",
            "4  N#CC1=C(SCC(=O)Nc2cccc(Cl)c2)N=C([O-])[C@H](C#...  3.60956  0.789027   \n",
            "\n",
            "        SAS  \n",
            "0  2.084095  \n",
            "1  3.432004  \n",
            "2  2.470633  \n",
            "3  2.822753  \n",
            "4  4.035182  \n"
          ]
        }
      ],
      "source": [
        "print(df.head())"
      ]
    },
    {
      "cell_type": "markdown",
      "metadata": {
        "id": "KdVkdWvIhhBe"
      },
      "source": [
        "## Processing the data\n",
        "\n",
        "We need to do the following things :\n",
        "\n",
        "- convert smile tokens to numbers\n",
        "- build  smile token sequences and corresponding labels pairs"
      ]
    },
    {
      "cell_type": "markdown",
      "metadata": {
        "id": "TumnXMVUhhBe"
      },
      "source": [
        "Compute the biggest smile molecule size"
      ]
    },
    {
      "cell_type": "code",
      "execution_count": null,
      "metadata": {
        "colab": {
          "base_uri": "https://localhost:8080/"
        },
        "id": "finX-DEQhhBf",
        "outputId": "a6ee88c9-c197-46f9-c5b5-46c69d268811"
      },
      "outputs": [
        {
          "output_type": "stream",
          "name": "stdout",
          "text": [
            "The biggest smile molecule size is: 106\n"
          ]
        }
      ],
      "source": [
        "# prompt: Compute the biggest smile molecule size\n",
        "\n",
        "# Compute the biggest smile molecule size\n",
        "max_len = df['smiles'].str.len().max()\n",
        "print(f\"The biggest smile molecule size is: {max_len}\")"
      ]
    },
    {
      "cell_type": "markdown",
      "metadata": {
        "id": "uSA-GzDwhhBf"
      },
      "source": [
        "\n",
        "Code a function **unic_characters(string)** which return the unic characters in a string\n"
      ]
    },
    {
      "cell_type": "code",
      "execution_count": null,
      "metadata": {
        "id": "6PTYpsSWhhBf"
      },
      "outputs": [],
      "source": [
        "def unic_characters(string):\n",
        "    \"\"\"Retourne les caractères uniques dans une chaîne.\"\"\"\n",
        "    return sorted(set(string))"
      ]
    },
    {
      "cell_type": "markdown",
      "metadata": {
        "id": "AP2IpN1HhhBf"
      },
      "source": [
        "Concatenate all smile string of the pandas dataframe and use **unic_characters** to get the unic_characters"
      ]
    },
    {
      "cell_type": "code",
      "execution_count": null,
      "metadata": {
        "id": "8ZCQSsGyhhBf"
      },
      "outputs": [],
      "source": [
        "# Concaténer toutes les SMILES\n",
        "all_smiles = ''.join(df['smiles'].tolist())\n",
        "unique_chars = unic_characters(all_smiles)"
      ]
    },
    {
      "cell_type": "markdown",
      "metadata": {
        "id": "gkZS5M_xhhBf"
      },
      "source": [
        "Code a function **map_char_to_int(unic_chars)** which returns a dictionnary where each char is assigned an int value.\n",
        "Add a character to specify the end of the molecule (like \"\\n\")\n"
      ]
    },
    {
      "cell_type": "code",
      "execution_count": null,
      "metadata": {
        "id": "mqHZuy5DhhBf"
      },
      "outputs": [],
      "source": [
        "def map_char_to_int(unic_chars):\n",
        "    \"\"\"Mappe chaque caractère unique à un entier.\"\"\"\n",
        "    return {char: idx for idx, char in enumerate(unic_chars + ['\\n'])}"
      ]
    },
    {
      "cell_type": "markdown",
      "metadata": {
        "id": "oaygufoshhBf"
      },
      "source": [
        "Code a function map_int_to_char(unic_chars) which returns the reverse mapping.\n",
        "\n",
        "If you want you can merge both functions in a class"
      ]
    },
    {
      "cell_type": "code",
      "execution_count": null,
      "metadata": {
        "id": "zChDjQhhhhBf"
      },
      "outputs": [],
      "source": [
        "def map_int_to_char(unic_chars):\n",
        "    \"\"\"Mappe chaque entier à son caractère correspondant.\"\"\"\n",
        "    return {idx: char for idx, char in enumerate(unic_chars + ['\\n'])}"
      ]
    },
    {
      "cell_type": "markdown",
      "metadata": {
        "id": "zj26fccJhhBf"
      },
      "source": [
        "For each smile molecule add the ending token to it"
      ]
    },
    {
      "cell_type": "code",
      "execution_count": null,
      "metadata": {
        "id": "9j1aMaq3hhBg"
      },
      "outputs": [],
      "source": [
        "char_to_int = map_char_to_int(unique_chars)\n",
        "int_to_char = map_int_to_char(unique_chars)\n",
        "\n",
        "df['smiles'] = df['smiles'] + '\\n'"
      ]
    },
    {
      "cell_type": "markdown",
      "metadata": {
        "id": "5UPyy53fhhBg"
      },
      "source": [
        "## Building the dataset\n",
        "\n",
        "Now we will create the dataset so that it has the good share for our Keras LSTM model\n",
        "\n",
        "Remember Keras recurrent models expect a 3D array with shapes (n_examples, seq_len, n_features)\n",
        "\n"
      ]
    },
    {
      "cell_type": "markdown",
      "metadata": {
        "id": "myAMAms7hhBg"
      },
      "source": [
        "What will be n_features in our case ?"
      ]
    },
    {
      "cell_type": "markdown",
      "metadata": {
        "id": "Fq2JpNdbhhBg"
      },
      "source": [
        "**REPONSE : Dans notre cas, n_features est le nombre de caractères uniques dans les molécules SMILES, plus le caractère de fin ajouté (\"\\n\")**"
      ]
    },
    {
      "cell_type": "markdown",
      "metadata": {
        "id": "n-MUcwK0hhBh"
      },
      "source": [
        "Code a function **build_X_and_y(string, i_char, seq_lenght)** which takes a string, a **seq_length** number and a position.\n",
        "\n",
        "\n",
        "It should create X by by getting all character between i and i + seq_length\n",
        "and create y by getting the character following the X sequence\n",
        "it returns X and y"
      ]
    },
    {
      "cell_type": "markdown",
      "metadata": {
        "id": "Vd4WYevhhhBh"
      },
      "source": [
        "Test your function on the following string \"\" with seq_length = 4 and i = [1, 2, 3]"
      ]
    },
    {
      "cell_type": "code",
      "execution_count": null,
      "metadata": {
        "id": "g4qgMPyXhhBi"
      },
      "outputs": [],
      "source": [
        "def build_X_and_y(string, i_char, seq_length):\n",
        "    \"\"\"Construit les séquences X et les étiquettes y pour un index donné.\"\"\"\n",
        "    X = string[i_char : i_char + seq_length]  # Séquence de caractères\n",
        "    y = string[i_char + seq_length]          # Caractère suivant\n",
        "    return X, y\n",
        "\n",
        "# Test de la fonction\n",
        "test_string = \"CC(=O)NC1=CC=C(O)C=C1\\n\"\n",
        "seq_length = 4\n",
        "for i in [1, 2, 3]:\n",
        "    X, y = build_X_and_y(test_string, i, seq_length)\n",
        "    print(f\"i={i}, X={X}, y={y}\")\n"
      ]
    },
    {
      "cell_type": "markdown",
      "metadata": {
        "id": "RmtADWQOhhBi"
      },
      "source": [
        "By using build_X_and_y and map_char_to_int build a list nameed X_train and a list named y_train"
      ]
    },
    {
      "cell_type": "code",
      "execution_count": null,
      "metadata": {
        "colab": {
          "base_uri": "https://localhost:8080/"
        },
        "id": "Gr3JmvhGhhBi",
        "outputId": "c5c5cbbd-560e-4876-cef1-08536f45cd50"
      },
      "outputs": [
        {
          "output_type": "stream",
          "name": "stdout",
          "text": [
            "Nombre de séquences dans X_train : 35242\n",
            "Nombre de labels dans y_train : 35242\n"
          ]
        }
      ],
      "source": [
        "# Ajouter un caractère de fin à chaque molécule\n",
        "df['smiles'] = df['smiles'].str.strip() + '\\n'\n",
        "\n",
        "# Initialiser les listes X_train et y_train\n",
        "X_train = []\n",
        "y_train = []\n",
        "\n",
        "# Construire les paires X et y\n",
        "seq_length = 10  # Longueur des séquences\n",
        "for smile in df['smiles']:\n",
        "    for i in range(len(smile) - seq_length):\n",
        "        X, y = build_X_and_y(smile, i, seq_length)\n",
        "        X_train.append([char_to_int[char] for char in X])  # Convertir X en entiers\n",
        "        y_train.append(char_to_int[y])  # Convertir y en entier\n",
        "\n",
        "print(f\"Nombre de séquences dans X_train : {len(X_train)}\")\n",
        "print(f\"Nombre de labels dans y_train : {len(y_train)}\")\n"
      ]
    },
    {
      "cell_type": "markdown",
      "metadata": {
        "id": "E7gLa835hhBi"
      },
      "source": [
        "Create numpy arrays from the lists"
      ]
    },
    {
      "cell_type": "code",
      "execution_count": null,
      "metadata": {
        "colab": {
          "base_uri": "https://localhost:8080/"
        },
        "id": "FOAftzHuhhBi",
        "outputId": "1921d23a-acf4-4ddd-cd2f-a75abcad702c"
      },
      "outputs": [
        {
          "output_type": "stream",
          "name": "stdout",
          "text": [
            "Dimensions de X_train : (35242, 10)\n",
            "Dimensions de y_train : (35242,)\n"
          ]
        }
      ],
      "source": [
        "import numpy as np\n",
        "\n",
        "# Conversion des listes en tableaux numpy\n",
        "X_train = np.array(X_train)\n",
        "y_train = np.array(y_train)\n",
        "\n",
        "# Afficher les dimensions des tableaux\n",
        "print(f\"Dimensions de X_train : {X_train.shape}\")\n",
        "print(f\"Dimensions de y_train : {y_train.shape}\")\n"
      ]
    },
    {
      "cell_type": "markdown",
      "metadata": {
        "id": "jUBovzT9hhBi"
      },
      "source": [
        "Reshape the X numpy array (n_examples, seq_lenght, 1)"
      ]
    },
    {
      "cell_type": "code",
      "execution_count": null,
      "metadata": {
        "colab": {
          "base_uri": "https://localhost:8080/"
        },
        "id": "m7NXX_yHhhBi",
        "outputId": "f01b6aba-24f2-4704-e9ad-2817156f8877"
      },
      "outputs": [
        {
          "output_type": "stream",
          "name": "stdout",
          "text": [
            "Dimensions de X_train après reshape : (35242, 10, 1)\n"
          ]
        }
      ],
      "source": [
        "# Reshape X_train\n",
        "X_train_reshaped = X_train.reshape(X_train.shape[0], seq_length, 1)\n",
        "\n",
        "# Afficher les dimensions après le reshape\n",
        "print(f\"Dimensions de X_train après reshape : {X_train_reshaped.shape}\")"
      ]
    },
    {
      "cell_type": "markdown",
      "metadata": {
        "id": "ICn8MKCchhBi"
      },
      "source": [
        "Normalize X by dividing each values by the total number of unic characters"
      ]
    },
    {
      "cell_type": "code",
      "execution_count": null,
      "metadata": {
        "colab": {
          "base_uri": "https://localhost:8080/"
        },
        "id": "EOPrTFr5hhBi",
        "outputId": "86944109-80c6-46d3-80ef-424e9ed6e51b"
      },
      "outputs": [
        {
          "output_type": "stream",
          "name": "stdout",
          "text": [
            "Dimensions de X_train après normalisation : (35242, 10, 1)\n"
          ]
        }
      ],
      "source": [
        "# Normalisation des données\n",
        "X_train_normalized = X_train_reshaped / len(unique_chars)\n",
        "\n",
        "# Afficher les dimensions du tableau normalisé\n",
        "print(f\"Dimensions de X_train après normalisation : {X_train_normalized.shape}\")"
      ]
    },
    {
      "cell_type": "markdown",
      "metadata": {
        "id": "RhapTHHJhhBj"
      },
      "source": [
        "Import Keras and build (at least) a two layered LSTM network with 128 neurone in each.\n",
        "\n",
        "You can also add Dropoutlayers\n",
        "\n",
        "Do you think you should use the return_sequences = True ? If yes, when ?\n",
        "\n",
        "\n",
        "Add a Dense layer on top with with the appropriate activation function and number of neurones\n"
      ]
    },
    {
      "cell_type": "code",
      "execution_count": null,
      "metadata": {
        "colab": {
          "base_uri": "https://localhost:8080/",
          "height": 321
        },
        "id": "b82yBSaahhBl",
        "outputId": "c397cdba-429e-43b0-ee8a-368597595f36"
      },
      "outputs": [
        {
          "output_type": "display_data",
          "data": {
            "text/plain": [
              "\u001b[1mModel: \"sequential_1\"\u001b[0m\n"
            ],
            "text/html": [
              "<pre style=\"white-space:pre;overflow-x:auto;line-height:normal;font-family:Menlo,'DejaVu Sans Mono',consolas,'Courier New',monospace\"><span style=\"font-weight: bold\">Model: \"sequential_1\"</span>\n",
              "</pre>\n"
            ]
          },
          "metadata": {}
        },
        {
          "output_type": "display_data",
          "data": {
            "text/plain": [
              "┏━━━━━━━━━━━━━━━━━━━━━━━━━━━━━━━━━━━━━━┳━━━━━━━━━━━━━━━━━━━━━━━━━━━━━┳━━━━━━━━━━━━━━━━━┓\n",
              "┃\u001b[1m \u001b[0m\u001b[1mLayer (type)                        \u001b[0m\u001b[1m \u001b[0m┃\u001b[1m \u001b[0m\u001b[1mOutput Shape               \u001b[0m\u001b[1m \u001b[0m┃\u001b[1m \u001b[0m\u001b[1m        Param #\u001b[0m\u001b[1m \u001b[0m┃\n",
              "┡━━━━━━━━━━━━━━━━━━━━━━━━━━━━━━━━━━━━━━╇━━━━━━━━━━━━━━━━━━━━━━━━━━━━━╇━━━━━━━━━━━━━━━━━┩\n",
              "│ lstm_2 (\u001b[38;5;33mLSTM\u001b[0m)                        │ (\u001b[38;5;45mNone\u001b[0m, \u001b[38;5;34m10\u001b[0m, \u001b[38;5;34m128\u001b[0m)             │          \u001b[38;5;34m66,560\u001b[0m │\n",
              "├──────────────────────────────────────┼─────────────────────────────┼─────────────────┤\n",
              "│ dropout_2 (\u001b[38;5;33mDropout\u001b[0m)                  │ (\u001b[38;5;45mNone\u001b[0m, \u001b[38;5;34m10\u001b[0m, \u001b[38;5;34m128\u001b[0m)             │               \u001b[38;5;34m0\u001b[0m │\n",
              "├──────────────────────────────────────┼─────────────────────────────┼─────────────────┤\n",
              "│ lstm_3 (\u001b[38;5;33mLSTM\u001b[0m)                        │ (\u001b[38;5;45mNone\u001b[0m, \u001b[38;5;34m128\u001b[0m)                 │         \u001b[38;5;34m131,584\u001b[0m │\n",
              "├──────────────────────────────────────┼─────────────────────────────┼─────────────────┤\n",
              "│ dropout_3 (\u001b[38;5;33mDropout\u001b[0m)                  │ (\u001b[38;5;45mNone\u001b[0m, \u001b[38;5;34m128\u001b[0m)                 │               \u001b[38;5;34m0\u001b[0m │\n",
              "├──────────────────────────────────────┼─────────────────────────────┼─────────────────┤\n",
              "│ dense_1 (\u001b[38;5;33mDense\u001b[0m)                      │ (\u001b[38;5;45mNone\u001b[0m, \u001b[38;5;34m33\u001b[0m)                  │           \u001b[38;5;34m4,257\u001b[0m │\n",
              "└──────────────────────────────────────┴─────────────────────────────┴─────────────────┘\n"
            ],
            "text/html": [
              "<pre style=\"white-space:pre;overflow-x:auto;line-height:normal;font-family:Menlo,'DejaVu Sans Mono',consolas,'Courier New',monospace\">┏━━━━━━━━━━━━━━━━━━━━━━━━━━━━━━━━━━━━━━┳━━━━━━━━━━━━━━━━━━━━━━━━━━━━━┳━━━━━━━━━━━━━━━━━┓\n",
              "┃<span style=\"font-weight: bold\"> Layer (type)                         </span>┃<span style=\"font-weight: bold\"> Output Shape                </span>┃<span style=\"font-weight: bold\">         Param # </span>┃\n",
              "┡━━━━━━━━━━━━━━━━━━━━━━━━━━━━━━━━━━━━━━╇━━━━━━━━━━━━━━━━━━━━━━━━━━━━━╇━━━━━━━━━━━━━━━━━┩\n",
              "│ lstm_2 (<span style=\"color: #0087ff; text-decoration-color: #0087ff\">LSTM</span>)                        │ (<span style=\"color: #00d7ff; text-decoration-color: #00d7ff\">None</span>, <span style=\"color: #00af00; text-decoration-color: #00af00\">10</span>, <span style=\"color: #00af00; text-decoration-color: #00af00\">128</span>)             │          <span style=\"color: #00af00; text-decoration-color: #00af00\">66,560</span> │\n",
              "├──────────────────────────────────────┼─────────────────────────────┼─────────────────┤\n",
              "│ dropout_2 (<span style=\"color: #0087ff; text-decoration-color: #0087ff\">Dropout</span>)                  │ (<span style=\"color: #00d7ff; text-decoration-color: #00d7ff\">None</span>, <span style=\"color: #00af00; text-decoration-color: #00af00\">10</span>, <span style=\"color: #00af00; text-decoration-color: #00af00\">128</span>)             │               <span style=\"color: #00af00; text-decoration-color: #00af00\">0</span> │\n",
              "├──────────────────────────────────────┼─────────────────────────────┼─────────────────┤\n",
              "│ lstm_3 (<span style=\"color: #0087ff; text-decoration-color: #0087ff\">LSTM</span>)                        │ (<span style=\"color: #00d7ff; text-decoration-color: #00d7ff\">None</span>, <span style=\"color: #00af00; text-decoration-color: #00af00\">128</span>)                 │         <span style=\"color: #00af00; text-decoration-color: #00af00\">131,584</span> │\n",
              "├──────────────────────────────────────┼─────────────────────────────┼─────────────────┤\n",
              "│ dropout_3 (<span style=\"color: #0087ff; text-decoration-color: #0087ff\">Dropout</span>)                  │ (<span style=\"color: #00d7ff; text-decoration-color: #00d7ff\">None</span>, <span style=\"color: #00af00; text-decoration-color: #00af00\">128</span>)                 │               <span style=\"color: #00af00; text-decoration-color: #00af00\">0</span> │\n",
              "├──────────────────────────────────────┼─────────────────────────────┼─────────────────┤\n",
              "│ dense_1 (<span style=\"color: #0087ff; text-decoration-color: #0087ff\">Dense</span>)                      │ (<span style=\"color: #00d7ff; text-decoration-color: #00d7ff\">None</span>, <span style=\"color: #00af00; text-decoration-color: #00af00\">33</span>)                  │           <span style=\"color: #00af00; text-decoration-color: #00af00\">4,257</span> │\n",
              "└──────────────────────────────────────┴─────────────────────────────┴─────────────────┘\n",
              "</pre>\n"
            ]
          },
          "metadata": {}
        },
        {
          "output_type": "display_data",
          "data": {
            "text/plain": [
              "\u001b[1m Total params: \u001b[0m\u001b[38;5;34m202,401\u001b[0m (790.63 KB)\n"
            ],
            "text/html": [
              "<pre style=\"white-space:pre;overflow-x:auto;line-height:normal;font-family:Menlo,'DejaVu Sans Mono',consolas,'Courier New',monospace\"><span style=\"font-weight: bold\"> Total params: </span><span style=\"color: #00af00; text-decoration-color: #00af00\">202,401</span> (790.63 KB)\n",
              "</pre>\n"
            ]
          },
          "metadata": {}
        },
        {
          "output_type": "display_data",
          "data": {
            "text/plain": [
              "\u001b[1m Trainable params: \u001b[0m\u001b[38;5;34m202,401\u001b[0m (790.63 KB)\n"
            ],
            "text/html": [
              "<pre style=\"white-space:pre;overflow-x:auto;line-height:normal;font-family:Menlo,'DejaVu Sans Mono',consolas,'Courier New',monospace\"><span style=\"font-weight: bold\"> Trainable params: </span><span style=\"color: #00af00; text-decoration-color: #00af00\">202,401</span> (790.63 KB)\n",
              "</pre>\n"
            ]
          },
          "metadata": {}
        },
        {
          "output_type": "display_data",
          "data": {
            "text/plain": [
              "\u001b[1m Non-trainable params: \u001b[0m\u001b[38;5;34m0\u001b[0m (0.00 B)\n"
            ],
            "text/html": [
              "<pre style=\"white-space:pre;overflow-x:auto;line-height:normal;font-family:Menlo,'DejaVu Sans Mono',consolas,'Courier New',monospace\"><span style=\"font-weight: bold\"> Non-trainable params: </span><span style=\"color: #00af00; text-decoration-color: #00af00\">0</span> (0.00 B)\n",
              "</pre>\n"
            ]
          },
          "metadata": {}
        }
      ],
      "source": [
        "from keras.models import Sequential\n",
        "from keras.layers import LSTM, Dense, Dropout\n",
        "\n",
        "# Construction du modèle\n",
        "model = Sequential([\n",
        "    # Première couche LSTM\n",
        "    # return_sequences=True car nous avons une deuxième couche LSTM\n",
        "    LSTM(128, input_shape=(10, 1), return_sequences=True),\n",
        "    Dropout(0.2),  # Couche de dropout pour réduire le surapprentissage\n",
        "\n",
        "    # Deuxième couche LSTM\n",
        "    # return_sequences=False car c'est la dernière couche LSTM\n",
        "    LSTM(128),\n",
        "    Dropout(0.2),\n",
        "\n",
        "    # Couche Dense de sortie\n",
        "    # nombre de neurones = nombre de caractères uniques\n",
        "    # activation='softmax' car c'est un problème de classification multi-classes\n",
        "    Dense(len(char_to_int), activation='softmax')\n",
        "])\n",
        "\n",
        "# Affichage du résumé du modèle\n",
        "model.summary()"
      ]
    },
    {
      "cell_type": "markdown",
      "metadata": {
        "id": "IaF5vZIWhhBl"
      },
      "source": [
        "Compile the model with the appropriate loss function and the adam optimizer"
      ]
    },
    {
      "cell_type": "code",
      "execution_count": null,
      "metadata": {
        "id": "X1cI13VfhhBl"
      },
      "outputs": [],
      "source": [
        "# Compilation du modèle\n",
        "model.compile(loss='sparse_categorical_crossentropy',\n",
        "              optimizer='adam',\n",
        "              metrics=['accuracy'])"
      ]
    },
    {
      "cell_type": "markdown",
      "metadata": {
        "id": "5ysisr3GhhBl"
      },
      "source": [
        "Train the model on 20 epochs and 10 examples (yeah you read correctly) and check that the model overfits !"
      ]
    },
    {
      "cell_type": "code",
      "execution_count": null,
      "metadata": {
        "colab": {
          "base_uri": "https://localhost:8080/"
        },
        "id": "8uiZizechhBm",
        "outputId": "a840a911-bde9-449a-fb15-508120b6a8e0"
      },
      "outputs": [
        {
          "output_type": "stream",
          "name": "stdout",
          "text": [
            "Epoch 1/20\n",
            "\u001b[1m10/10\u001b[0m \u001b[32m━━━━━━━━━━━━━━━━━━━━\u001b[0m\u001b[37m\u001b[0m \u001b[1m2s\u001b[0m 14ms/step - accuracy: 0.1916 - loss: 3.4575\n",
            "Epoch 2/20\n",
            "\u001b[1m10/10\u001b[0m \u001b[32m━━━━━━━━━━━━━━━━━━━━\u001b[0m\u001b[37m\u001b[0m \u001b[1m0s\u001b[0m 14ms/step - accuracy: 0.1324 - loss: 3.1913\n",
            "Epoch 3/20\n",
            "\u001b[1m10/10\u001b[0m \u001b[32m━━━━━━━━━━━━━━━━━━━━\u001b[0m\u001b[37m\u001b[0m \u001b[1m0s\u001b[0m 13ms/step - accuracy: 0.3795 - loss: 2.4808\n",
            "Epoch 4/20\n",
            "\u001b[1m10/10\u001b[0m \u001b[32m━━━━━━━━━━━━━━━━━━━━\u001b[0m\u001b[37m\u001b[0m \u001b[1m0s\u001b[0m 17ms/step - accuracy: 0.1669 - loss: 2.5295\n",
            "Epoch 5/20\n",
            "\u001b[1m10/10\u001b[0m \u001b[32m━━━━━━━━━━━━━━━━━━━━\u001b[0m\u001b[37m\u001b[0m \u001b[1m0s\u001b[0m 13ms/step - accuracy: 0.5176 - loss: 1.9043\n",
            "Epoch 6/20\n",
            "\u001b[1m10/10\u001b[0m \u001b[32m━━━━━━━━━━━━━━━━━━━━\u001b[0m\u001b[37m\u001b[0m \u001b[1m0s\u001b[0m 12ms/step - accuracy: 0.3563 - loss: 1.8389\n",
            "Epoch 7/20\n",
            "\u001b[1m10/10\u001b[0m \u001b[32m━━━━━━━━━━━━━━━━━━━━\u001b[0m\u001b[37m\u001b[0m \u001b[1m0s\u001b[0m 14ms/step - accuracy: 0.1206 - loss: 2.3081\n",
            "Epoch 8/20\n",
            "\u001b[1m10/10\u001b[0m \u001b[32m━━━━━━━━━━━━━━━━━━━━\u001b[0m\u001b[37m\u001b[0m \u001b[1m0s\u001b[0m 14ms/step - accuracy: 0.5231 - loss: 1.8700\n",
            "Epoch 9/20\n",
            "\u001b[1m10/10\u001b[0m \u001b[32m━━━━━━━━━━━━━━━━━━━━\u001b[0m\u001b[37m\u001b[0m \u001b[1m0s\u001b[0m 15ms/step - accuracy: 0.4821 - loss: 1.5418\n",
            "Epoch 10/20\n",
            "\u001b[1m10/10\u001b[0m \u001b[32m━━━━━━━━━━━━━━━━━━━━\u001b[0m\u001b[37m\u001b[0m \u001b[1m0s\u001b[0m 13ms/step - accuracy: 0.2646 - loss: 1.9640\n",
            "Epoch 11/20\n",
            "\u001b[1m10/10\u001b[0m \u001b[32m━━━━━━━━━━━━━━━━━━━━\u001b[0m\u001b[37m\u001b[0m \u001b[1m0s\u001b[0m 15ms/step - accuracy: 0.4915 - loss: 1.7923\n",
            "Epoch 12/20\n",
            "\u001b[1m10/10\u001b[0m \u001b[32m━━━━━━━━━━━━━━━━━━━━\u001b[0m\u001b[37m\u001b[0m \u001b[1m0s\u001b[0m 13ms/step - accuracy: 0.5968 - loss: 1.6301\n",
            "Epoch 13/20\n",
            "\u001b[1m10/10\u001b[0m \u001b[32m━━━━━━━━━━━━━━━━━━━━\u001b[0m\u001b[37m\u001b[0m \u001b[1m0s\u001b[0m 14ms/step - accuracy: 0.2343 - loss: 1.9989\n",
            "Epoch 14/20\n",
            "\u001b[1m10/10\u001b[0m \u001b[32m━━━━━━━━━━━━━━━━━━━━\u001b[0m\u001b[37m\u001b[0m \u001b[1m0s\u001b[0m 14ms/step - accuracy: 0.3958 - loss: 1.7945\n",
            "Epoch 15/20\n",
            "\u001b[1m10/10\u001b[0m \u001b[32m━━━━━━━━━━━━━━━━━━━━\u001b[0m\u001b[37m\u001b[0m \u001b[1m0s\u001b[0m 14ms/step - accuracy: 0.0860 - loss: 1.8729\n",
            "Epoch 16/20\n",
            "\u001b[1m10/10\u001b[0m \u001b[32m━━━━━━━━━━━━━━━━━━━━\u001b[0m\u001b[37m\u001b[0m \u001b[1m0s\u001b[0m 24ms/step - accuracy: 0.4772 - loss: 2.0592\n",
            "Epoch 17/20\n",
            "\u001b[1m10/10\u001b[0m \u001b[32m━━━━━━━━━━━━━━━━━━━━\u001b[0m\u001b[37m\u001b[0m \u001b[1m0s\u001b[0m 24ms/step - accuracy: 0.2886 - loss: 1.9658\n",
            "Epoch 18/20\n",
            "\u001b[1m10/10\u001b[0m \u001b[32m━━━━━━━━━━━━━━━━━━━━\u001b[0m\u001b[37m\u001b[0m \u001b[1m0s\u001b[0m 27ms/step - accuracy: 0.6170 - loss: 1.6263\n",
            "Epoch 19/20\n",
            "\u001b[1m10/10\u001b[0m \u001b[32m━━━━━━━━━━━━━━━━━━━━\u001b[0m\u001b[37m\u001b[0m \u001b[1m0s\u001b[0m 23ms/step - accuracy: 0.5231 - loss: 1.6742\n",
            "Epoch 20/20\n",
            "\u001b[1m10/10\u001b[0m \u001b[32m━━━━━━━━━━━━━━━━━━━━\u001b[0m\u001b[37m\u001b[0m \u001b[1m0s\u001b[0m 23ms/step - accuracy: 0.2927 - loss: 1.8462\n"
          ]
        }
      ],
      "source": [
        "# Entraînement sur un petit ensemble pour vérifier le surapprentissage\n",
        "# Sélection de 10 exemples aléatoires\n",
        "indices = np.random.choice(len(X_train_normalized), 10)\n",
        "X_small = X_train_normalized[indices]\n",
        "y_small = y_train[indices]\n",
        "\n",
        "# Entraînement sur 20 époques\n",
        "history = model.fit(X_small, y_small,\n",
        "                   epochs=20,\n",
        "                   batch_size=1,\n",
        "                   verbose=1)\n"
      ]
    },
    {
      "cell_type": "markdown",
      "metadata": {
        "id": "WXPwC8NrhhBm"
      },
      "source": [
        "If it does not overfit try to fix data prep and model architecture so it does"
      ]
    },
    {
      "cell_type": "code",
      "execution_count": null,
      "metadata": {
        "id": "gtOyYCPrhhBm"
      },
      "outputs": [],
      "source": []
    },
    {
      "cell_type": "markdown",
      "metadata": {
        "id": "Wwy5PGlnhhBm"
      },
      "source": [
        "Create a function **make_prediction(seed_start)** which takes a starting string sequence and uses it to generate a molecule\n"
      ]
    },
    {
      "cell_type": "code",
      "execution_count": null,
      "metadata": {
        "id": "n98YTkTHhhBm"
      },
      "outputs": [],
      "source": [
        "def make_prediction(seed_start, max_length=100):\n",
        "    \"\"\"\n",
        "    Génère une molécule à partir d'une séquence de départ\n",
        "\n",
        "    Args:\n",
        "        seed_start (str): Séquence de départ\n",
        "        max_length (int): Longueur maximum de la molécule générée\n",
        "\n",
        "    Returns:\n",
        "        str: Molécule générée\n",
        "    \"\"\"\n",
        "    generated = seed_start\n",
        "\n",
        "    # Padding de la séquence initiale si nécessaire\n",
        "    if len(generated) < 10:\n",
        "        # On ajoute des 'C' au début jusqu'à avoir 10 caractères\n",
        "        generated = 'C' * (10 - len(generated)) + generated\n",
        "\n",
        "    while len(generated) < max_length:\n",
        "        # Préparation de la séquence d'entrée\n",
        "        x = generated[-10:]  # Prendre les 10 derniers caractères\n",
        "        x = np.array([char_to_int[char] for char in x])\n",
        "        x = x.reshape(1, 10, 1)\n",
        "        x = x / len(char_to_int)\n",
        "\n",
        "        # Prédiction\n",
        "        pred = model.predict(x, verbose=0)[0]\n",
        "        next_char_idx = np.argmax(pred)\n",
        "        next_char = int_to_char[next_char_idx]\n",
        "\n",
        "        # Arrêt si on prédit le caractère de fin\n",
        "        if next_char == '\\n':\n",
        "            break\n",
        "\n",
        "        generated += next_char\n",
        "\n",
        "    # On retourne seulement la partie après le padding initial\n",
        "    return generated[10-len(seed_start):]\n",
        "\n"
      ]
    },
    {
      "cell_type": "markdown",
      "metadata": {
        "id": "CsVXsxdOhhBm"
      },
      "source": [
        "generate a molecule of your overfitted model"
      ]
    },
    {
      "cell_type": "code",
      "execution_count": null,
      "metadata": {
        "colab": {
          "base_uri": "https://localhost:8080/"
        },
        "id": "fEyuXXiwhhBm",
        "outputId": "c7382127-8352-4f39-cd92-be17026d14a8"
      },
      "outputs": [
        {
          "output_type": "stream",
          "name": "stdout",
          "text": [
            "Molécule générée: CCCCCCCCCCCCCCCCCCCCCCCCCCCCCCCCCCCCCCCCCCCCCCCCCCCCCCCCCCCCCCCCCCCCCCCCCCCCCCCCCCCCCCCCCCCC\n"
          ]
        }
      ],
      "source": [
        "seed = \"CC\"\n",
        "generated_molecule = make_prediction(seed)\n",
        "print(f\"Molécule générée: {generated_molecule}\")"
      ]
    },
    {
      "cell_type": "markdown",
      "metadata": {
        "id": "Ax84OquChhBm"
      },
      "source": [
        "Make a model checkpoint so that the model is saved after each epoch\n",
        "if you train on a plateform and it stops you do not lose your training"
      ]
    },
    {
      "cell_type": "code",
      "execution_count": null,
      "metadata": {
        "id": "V5djluGOhhBm"
      },
      "outputs": [],
      "source": [
        "# Créer un ModelCheckpoint callback avec .keras à la fin\n",
        "checkpoint_path = \"/content/LSTM_Model_checkpoint.keras\"  # Changer le .h5 en .keras\n",
        "\n",
        "# Créer un ModelCheckpoint callback\n",
        "checkpoint = ModelCheckpoint(filepath=checkpoint_path,\n",
        "                             monitor='val_loss',  # Surveiller la validation\n",
        "                             save_best_only=True,  # Sauvegarder seulement les meilleurs modèles\n",
        "                             save_weights_only=False,\n",
        "                             verbose=1)"
      ]
    },
    {
      "cell_type": "markdown",
      "metadata": {
        "id": "phiq_DGkhhBm"
      },
      "source": [
        "Now go to your favorite plateform (colab or something else) and train the dataset on the whole data for 10 epochs and batch size 256\n",
        "\n",
        "it should take a long time so either follow the class or go take a nap"
      ]
    },
    {
      "cell_type": "code",
      "execution_count": null,
      "metadata": {
        "colab": {
          "base_uri": "https://localhost:8080/",
          "height": 976
        },
        "id": "EK7YQJFahhBm",
        "outputId": "9ff34529-69d0-4c57-9643-b58aeb6351df"
      },
      "outputs": [
        {
          "output_type": "stream",
          "name": "stdout",
          "text": [
            "Epoch 1/10\n",
            "\u001b[1m124/124\u001b[0m \u001b[32m━━━━━━━━━━━━━━━━━━━━\u001b[0m\u001b[37m\u001b[0m \u001b[1m0s\u001b[0m 83ms/step - accuracy: 0.1837 - loss: 2.9715\n",
            "Epoch 1: val_loss improved from inf to 2.70687, saving model to /content/LSTM_Model_checkpoint.keras\n",
            "\u001b[1m124/124\u001b[0m \u001b[32m━━━━━━━━━━━━━━━━━━━━\u001b[0m\u001b[37m\u001b[0m \u001b[1m14s\u001b[0m 90ms/step - accuracy: 0.1837 - loss: 2.9700 - val_accuracy: 0.1733 - val_loss: 2.7069\n",
            "Epoch 2/10\n",
            "\u001b[1m124/124\u001b[0m \u001b[32m━━━━━━━━━━━━━━━━━━━━\u001b[0m\u001b[37m\u001b[0m \u001b[1m0s\u001b[0m 75ms/step - accuracy: 0.1982 - loss: 2.6839\n",
            "Epoch 2: val_loss improved from 2.70687 to 2.67647, saving model to /content/LSTM_Model_checkpoint.keras\n",
            "\u001b[1m124/124\u001b[0m \u001b[32m━━━━━━━━━━━━━━━━━━━━\u001b[0m\u001b[37m\u001b[0m \u001b[1m11s\u001b[0m 86ms/step - accuracy: 0.1982 - loss: 2.6839 - val_accuracy: 0.1915 - val_loss: 2.6765\n",
            "Epoch 3/10\n",
            "\u001b[1m124/124\u001b[0m \u001b[32m━━━━━━━━━━━━━━━━━━━━\u001b[0m\u001b[37m\u001b[0m \u001b[1m0s\u001b[0m 81ms/step - accuracy: 0.2086 - loss: 2.6494\n",
            "Epoch 3: val_loss improved from 2.67647 to 2.58612, saving model to /content/LSTM_Model_checkpoint.keras\n",
            "\u001b[1m124/124\u001b[0m \u001b[32m━━━━━━━━━━━━━━━━━━━━\u001b[0m\u001b[37m\u001b[0m \u001b[1m20s\u001b[0m 85ms/step - accuracy: 0.2087 - loss: 2.6492 - val_accuracy: 0.2037 - val_loss: 2.5861\n",
            "Epoch 4/10\n",
            "\u001b[1m124/124\u001b[0m \u001b[32m━━━━━━━━━━━━━━━━━━━━\u001b[0m\u001b[37m\u001b[0m \u001b[1m0s\u001b[0m 82ms/step - accuracy: 0.2345 - loss: 2.5200\n",
            "Epoch 4: val_loss improved from 2.58612 to 2.39261, saving model to /content/LSTM_Model_checkpoint.keras\n",
            "\u001b[1m124/124\u001b[0m \u001b[32m━━━━━━━━━━━━━━━━━━━━\u001b[0m\u001b[37m\u001b[0m \u001b[1m20s\u001b[0m 85ms/step - accuracy: 0.2346 - loss: 2.5196 - val_accuracy: 0.2704 - val_loss: 2.3926\n",
            "Epoch 5/10\n",
            "\u001b[1m124/124\u001b[0m \u001b[32m━━━━━━━━━━━━━━━━━━━━\u001b[0m\u001b[37m\u001b[0m \u001b[1m0s\u001b[0m 75ms/step - accuracy: 0.2892 - loss: 2.3476\n",
            "Epoch 5: val_loss improved from 2.39261 to 2.22769, saving model to /content/LSTM_Model_checkpoint.keras\n",
            "\u001b[1m124/124\u001b[0m \u001b[32m━━━━━━━━━━━━━━━━━━━━\u001b[0m\u001b[37m\u001b[0m \u001b[1m20s\u001b[0m 78ms/step - accuracy: 0.2893 - loss: 2.3472 - val_accuracy: 0.3138 - val_loss: 2.2277\n",
            "Epoch 6/10\n",
            "\u001b[1m124/124\u001b[0m \u001b[32m━━━━━━━━━━━━━━━━━━━━\u001b[0m\u001b[37m\u001b[0m \u001b[1m0s\u001b[0m 82ms/step - accuracy: 0.3386 - loss: 2.1892\n",
            "Epoch 6: val_loss improved from 2.22769 to 2.09437, saving model to /content/LSTM_Model_checkpoint.keras\n",
            "\u001b[1m124/124\u001b[0m \u001b[32m━━━━━━━━━━━━━━━━━━━━\u001b[0m\u001b[37m\u001b[0m \u001b[1m11s\u001b[0m 85ms/step - accuracy: 0.3387 - loss: 2.1889 - val_accuracy: 0.3574 - val_loss: 2.0944\n",
            "Epoch 7/10\n",
            "\u001b[1m124/124\u001b[0m \u001b[32m━━━━━━━━━━━━━━━━━━━━\u001b[0m\u001b[37m\u001b[0m \u001b[1m0s\u001b[0m 74ms/step - accuracy: 0.3767 - loss: 2.0472\n",
            "Epoch 7: val_loss improved from 2.09437 to 1.98356, saving model to /content/LSTM_Model_checkpoint.keras\n",
            "\u001b[1m124/124\u001b[0m \u001b[32m━━━━━━━━━━━━━━━━━━━━\u001b[0m\u001b[37m\u001b[0m \u001b[1m20s\u001b[0m 85ms/step - accuracy: 0.3768 - loss: 2.0470 - val_accuracy: 0.4062 - val_loss: 1.9836\n",
            "Epoch 8/10\n",
            "\u001b[1m124/124\u001b[0m \u001b[32m━━━━━━━━━━━━━━━━━━━━\u001b[0m\u001b[37m\u001b[0m \u001b[1m0s\u001b[0m 82ms/step - accuracy: 0.4234 - loss: 1.9445\n",
            "Epoch 8: val_loss improved from 1.98356 to 1.89092, saving model to /content/LSTM_Model_checkpoint.keras\n",
            "\u001b[1m124/124\u001b[0m \u001b[32m━━━━━━━━━━━━━━━━━━━━\u001b[0m\u001b[37m\u001b[0m \u001b[1m21s\u001b[0m 86ms/step - accuracy: 0.4235 - loss: 1.9443 - val_accuracy: 0.4247 - val_loss: 1.8909\n",
            "Epoch 9/10\n",
            "\u001b[1m124/124\u001b[0m \u001b[32m━━━━━━━━━━━━━━━━━━━━\u001b[0m\u001b[37m\u001b[0m \u001b[1m0s\u001b[0m 83ms/step - accuracy: 0.4458 - loss: 1.8615\n",
            "Epoch 9: val_loss improved from 1.89092 to 1.82403, saving model to /content/LSTM_Model_checkpoint.keras\n",
            "\u001b[1m124/124\u001b[0m \u001b[32m━━━━━━━━━━━━━━━━━━━━\u001b[0m\u001b[37m\u001b[0m \u001b[1m11s\u001b[0m 86ms/step - accuracy: 0.4459 - loss: 1.8613 - val_accuracy: 0.4400 - val_loss: 1.8240\n",
            "Epoch 10/10\n",
            "\u001b[1m124/124\u001b[0m \u001b[32m━━━━━━━━━━━━━━━━━━━━\u001b[0m\u001b[37m\u001b[0m \u001b[1m0s\u001b[0m 78ms/step - accuracy: 0.4616 - loss: 1.7912\n",
            "Epoch 10: val_loss improved from 1.82403 to 1.77900, saving model to /content/LSTM_Model_checkpoint.keras\n",
            "\u001b[1m124/124\u001b[0m \u001b[32m━━━━━━━━━━━━━━━━━━━━\u001b[0m\u001b[37m\u001b[0m \u001b[1m10s\u001b[0m 84ms/step - accuracy: 0.4617 - loss: 1.7911 - val_accuracy: 0.4525 - val_loss: 1.7790\n"
          ]
        },
        {
          "output_type": "display_data",
          "data": {
            "text/plain": [
              "<Figure size 1200x400 with 2 Axes>"
            ],
            "image/png": "[encoded data removed]"
          },
          "metadata": {}
        }
      ],
      "source": [
        "from tensorflow.keras.models import Sequential\n",
        "from tensorflow.keras.layers import LSTM, Dense\n",
        "from tensorflow.keras.optimizers import Adam\n",
        "\n",
        "# Définir le modèle LSTM\n",
        "model = Sequential([\n",
        "    LSTM(128, return_sequences=True, input_shape=(X_train_normalized.shape[1], 1)),\n",
        "    LSTM(64),\n",
        "    Dense(34, activation='softmax')  # Assurez-vous que le nombre de sorties correspond aux classes (34 dans ce cas)\n",
        "])\n",
        "\n",
        "# Compilation du modèle\n",
        "model.compile(optimizer='adam', loss='categorical_crossentropy', metrics=['accuracy'])\n",
        "\n",
        "# Entrainer le modèle sur 10 epochs avec un batch_size de 256\n",
        "history = model.fit(X_train_normalized, y_train_encoded,\n",
        "                    epochs=10,\n",
        "                    batch_size=256,\n",
        "                    validation_split=0.1,\n",
        "                    callbacks=[checkpoint],\n",
        "                    verbose=1)\n",
        "\n",
        "# Visualisation des résultats d'entraînement\n",
        "import matplotlib.pyplot as plt\n",
        "\n",
        "# Plot Accuracy\n",
        "plt.figure(figsize=(12, 4))\n",
        "plt.subplot(1, 2, 1)\n",
        "plt.plot(history.history['accuracy'], label='accuracy')\n",
        "plt.plot(history.history['val_accuracy'], label='val_accuracy')\n",
        "plt.title('Model Accuracy')\n",
        "plt.xlabel('Epoch')\n",
        "plt.ylabel('Accuracy')\n",
        "plt.legend(loc='lower right')\n",
        "\n",
        "# Plot Loss\n",
        "plt.subplot(1, 2, 2)\n",
        "plt.plot(history.history['loss'], label='loss')\n",
        "plt.plot(history.history['val_loss'], label='val_loss')\n",
        "plt.title('Model Loss')\n",
        "plt.xlabel('Epoch')\n",
        "plt.ylabel('Loss')\n",
        "plt.legend(loc='upper right')\n",
        "\n",
        "plt.show()\n"
      ]
    },
    {
      "cell_type": "markdown",
      "metadata": {
        "id": "b6bQNaAYhhBm"
      },
      "source": [
        "Generate between 100 and 1000 molecules.\n",
        "\n",
        "create a list where molecules have between 10 and 50 atoms"
      ]
    },
    {
      "cell_type": "code",
      "execution_count": null,
      "metadata": {
        "colab": {
          "base_uri": "https://localhost:8080/"
        },
        "id": "Y1_6F71whhBn",
        "outputId": "5ef81cb7-3ce7-4d2f-cc3d-96e1df627bf3"
      },
      "outputs": [
        {
          "output_type": "stream",
          "name": "stdout",
          "text": [
            "Total molecules generated: 1000\n"
          ]
        }
      ],
      "source": [
        "import numpy as np\n",
        "\n",
        "# Function to generate multiple molecules\n",
        "def generate_molecules(num_molecules=1000, min_atoms=10, max_atoms=50):\n",
        "    generated_molecules = []\n",
        "\n",
        "    while len(generated_molecules) < num_molecules:\n",
        "        seed = \"CC\"  # Starting seed\n",
        "        molecule = make_prediction(seed, max_length=max_atoms)\n",
        "\n",
        "        # Check if molecule length (excluding padding) is within the desired range\n",
        "        if min_atoms <= len(molecule.strip()) <= max_atoms:\n",
        "            generated_molecules.append(molecule.strip())  # Remove padding and add to the list\n",
        "\n",
        "    return generated_molecules\n",
        "\n",
        "# Generate molecules\n",
        "molecules = generate_molecules(1000, 10, 50)\n",
        "\n",
        "# Output the number of molecules generated\n",
        "print(f\"Total molecules generated: {len(molecules)}\")\n"
      ]
    },
    {
      "cell_type": "markdown",
      "metadata": {
        "id": "cuZ5OXlThhBn"
      },
      "source": [
        "With rdkit compute the Quantified Estimated Drug likelyness (QED) of each molecule in this subset"
      ]
    },
    {
      "cell_type": "code",
      "execution_count": 7,
      "metadata": {
        "id": "z_ddAjvrhhBn",
        "colab": {
          "base_uri": "https://localhost:8080/"
        },
        "outputId": "1c5b4c8d-fa5f-4e2d-892f-fa1d1d75e46d"
      },
      "outputs": [
        {
          "output_type": "stream",
          "name": "stdout",
          "text": [
            "Requirement already satisfied: rdkit in /usr/local/lib/python3.10/dist-packages (2024.9.4)\n",
            "Requirement already satisfied: numpy in /usr/local/lib/python3.10/dist-packages (from rdkit) (1.26.4)\n",
            "Requirement already satisfied: Pillow in /usr/local/lib/python3.10/dist-packages (from rdkit) (11.1.0)\n",
            "Total molecules generated: 1000\n",
            "QED values computed: 1000\n",
            "Mean QED: 0.385\n",
            "Median QED: 0.384\n",
            "Number of molecules with valid QED values: 1000\n",
            "Sample QED values:\n",
            "Molecule: CCO... QED: 0.407\n",
            "Molecule: CCN... QED: 0.406\n",
            "Molecule: CCC... QED: 0.385\n",
            "Molecule: CCCl... QED: 0.372\n",
            "Molecule: CNC... QED: 0.399\n",
            "Molecule: COC... QED: 0.380\n",
            "Molecule: C=C... QED: 0.344\n",
            "Molecule: CCF... QED: 0.382\n",
            "Molecule: CCBr... QED: 0.412\n",
            "Molecule: CNO... QED: 0.364\n"
          ]
        }
      ],
      "source": [
        "!pip install rdkit\n",
        "\n",
        "from rdkit import Chem\n",
        "from rdkit.Chem import QED\n",
        "import numpy as np\n",
        "\n",
        "# Function to compute QED for each molecule\n",
        "def compute_qed(molecules):\n",
        "    qed_values = []\n",
        "\n",
        "    for mol in molecules:\n",
        "        # Convert the SMILES string to an RDKit molecule object\n",
        "        mol_obj = Chem.MolFromSmiles(mol)\n",
        "        if mol_obj is not None:\n",
        "            # Compute the QED\n",
        "            qed = QED.qed(mol_obj)\n",
        "            qed_values.append(qed)\n",
        "        else:\n",
        "            qed_values.append(None)  # If molecule is invalid or cannot be processed, return None\n",
        "\n",
        "    return qed_values\n",
        "\n",
        "# Generate molecules (from previous example)\n",
        "molecules = generate_molecules(1000, 10, 50)\n",
        "\n",
        "# Compute QED for each molecule in the subset\n",
        "qed_values = compute_qed(molecules)\n",
        "\n",
        "# Output the QED values and some statistics\n",
        "print(f\"Total molecules generated: {len(molecules)}\")\n",
        "print(f\"QED values computed: {len(qed_values)}\")\n",
        "print(f\"Mean QED: {np.mean([q for q in qed_values if q is not None]):.3f}\")\n",
        "print(f\"Median QED: {np.median([q for q in qed_values if q is not None]):.3f}\")\n",
        "print(f\"Number of molecules with valid QED values: {len([q for q in qed_values if q is not None])}\")\n",
        "\n",
        "# Optionally, print some QED values for inspection\n",
        "print(\"Sample QED values:\")\n",
        "for mol, qed in zip(molecules[:10], qed_values[:10]):\n",
        "    print(f\"Molecule: {mol[:30]}... QED: {qed:.3f}\")\n"
      ]
    },
    {
      "cell_type": "markdown",
      "metadata": {
        "id": "7l8ICVvKhhBn"
      },
      "source": [
        "Bonus 1 : Using rdkit, compute the quantitative estimation of drug-likeness (QED) of your generated molecules."
      ]
    },
    {
      "cell_type": "code",
      "execution_count": null,
      "metadata": {
        "id": "LAC9tBEBhhBn"
      },
      "outputs": [],
      "source": []
    },
    {
      "cell_type": "markdown",
      "metadata": {
        "id": "BgR621kwhhBn"
      },
      "source": [
        "Bonus 2 : try to adapt a transformer model training from hugging face to see if it is better"
      ]
    },
    {
      "cell_type": "code",
      "execution_count": null,
      "metadata": {
        "id": "-kmi1GiGhhBn"
      },
      "outputs": [],
      "source": []
    }
  ],
  "metadata": {
    "kernelspec": {
      "display_name": "Python 3 (ipykernel)",
      "language": "python",
      "name": "python3"
    },
    "language_info": {
      "codemirror_mode": {
        "name": "ipython",
        "version": 3
      },
      "file_extension": ".py",
      "mimetype": "text/x-python",
      "name": "python",
      "nbconvert_exporter": "python",
      "pygments_lexer": "ipython3",
      "version": "3.9.9"
    },
    "colab": {
      "provenance": []
    }
  },
  "nbformat": 4,
  "nbformat_minor": 0
}